{
 "cells": [
  {
   "cell_type": "code",
   "execution_count": 23,
   "metadata": {},
   "outputs": [],
   "source": [
    "import glob\n",
    "import psycopg2\n",
    "from nltk.tokenize import sent_tokenize"
   ]
  },
  {
   "cell_type": "code",
   "execution_count": null,
   "metadata": {},
   "outputs": [],
   "source": [
    "!split -l 100000 corpus_utf.txt split_data/splt_"
   ]
  },
  {
   "cell_type": "code",
   "execution_count": 25,
   "metadata": {},
   "outputs": [],
   "source": [
    "db_info=\"hoge\"\n",
    "split_files=glob.glob(\"./split_data/*\")"
   ]
  },
  {
   "cell_type": "code",
   "execution_count": 26,
   "metadata": {},
   "outputs": [],
   "source": [
    "for file in split_files:\n",
    "    with open(file) as f:\n",
    "        s=f.read()\n",
    "        sent_list=sent_tokenize(s)\n",
    "        with open('sentence.txt', 'a') as f:\n",
    "            for sent in sent_list:\n",
    "                f.write(\"%s\\n\" % sent)"
   ]
  },
  {
   "cell_type": "code",
   "execution_count": 27,
   "metadata": {},
   "outputs": [],
   "source": [
    "def exec_query(query):\n",
    "    with psycopg2.connect(db_info) as connection:\n",
    "        with connection.cursor() as cur:\n",
    "            cur.execute(query)\n",
    "            try:\n",
    "                res=cur.fetchall()\n",
    "            except :\n",
    "                return None\n",
    "    return res"
   ]
  },
  {
   "cell_type": "code",
   "execution_count": 82,
   "metadata": {},
   "outputs": [],
   "source": [
    "exec_query(\"create table sentences (sentence text)\")"
   ]
  },
  {
   "cell_type": "code",
   "execution_count": 28,
   "metadata": {},
   "outputs": [],
   "source": [
    "!sed -i -e 's/#/*/g' sentence.txt"
   ]
  },
  {
   "cell_type": "code",
   "execution_count": 63,
   "metadata": {},
   "outputs": [],
   "source": [
    "exec_query(\"truncate table sentences\")\n",
    "with psycopg2.connect(db_info) as connection:\n",
    "    with connection.cursor() as cur:\n",
    "        f=open(\"sentence.txt\")\n",
    "        cur.copy_from(f,\"sentences\",sep=\"#\")\n",
    "        f.close()"
   ]
  },
  {
   "cell_type": "code",
   "execution_count": 60,
   "metadata": {},
   "outputs": [],
   "source": [
    "def search_sent(word):\n",
    "    rslt=exec_query(\"select sentence from sentences where sentence like '% {} %'\".format(word))\n",
    "    print(rslt)"
   ]
  },
  {
   "cell_type": "code",
   "execution_count": 64,
   "metadata": {},
   "outputs": [
    {
     "name": "stdout",
     "output_type": "stream",
     "text": [
      "[('In this respect a wetland site such as Tomen y Mur and its associated vicus have a tremendous potential for the survival of organic remains, which could be utilised to tackle the kinds of issues raised above.',), ('There is, therefore, tremendous pressure now on farmers and landowners to respond to this demand for further access to the countryside.',), ('Hughes, who described the review as \"a tremendous outcome to the discussions,\" added: \"The Levy Board needs to know where it stands.',), ('The world of telematics is moving apace and there is no doubt that traffic information adds tremendous value to the consumer.窶 The Citron C5 makes its UK debut at the British International Motor Show and will be on sale early in 2001.',), ('It was a tremendous experience to walk along the wall, with its breath-taking views over rugged terrain, and stretching for some 7000 km!',), ('Finally, it would be amiss not to acknowledge the sterling efforts of the Captains Stephen and Siobhan, together with the tremendous inspiration of the boatman and coach Don and his wife Mary McLachlan.',), (\"There are tremendous advantages in playing fish off a high placed reel, but if the lower position was considered to be essential for casting (and I don't think it is) it shouldn't be beyond the wit of man to devise a reel seat that slides up and down the handle, or a parallel blank section, locking into position as necessary: years ago we had such fittings on big shore fishing rods.\",), ('Area Organiser Christine Richardson said: \"We\\'ve had tremendous support from everyone at Colour Care, the Wales TUC and Swansea College.',), (\"The one notable exception was Peter Wheat, a great teddy-bear of a man who's angling exploits in books, articles and letters over the last few decades have been the source of tremendous pleasure to countless anglers.\",), ('Angelina Ballerina is a little mouse armed with lots of determination, tremendous natural ability and enormous passion, who always steals the show.',), ('I had made some great friends and learnt tremendous amounts from my time in Massachusetts.',), ('This option generates a tremendous amount of extremely boring output.',), ('The feedback that we received was tremendous and everyone enjoyed the afternoon celebrating your achievement.',), (\"Today, Avon's income continues to make a tremendous contribution to the Centre.\",), (\"'I enjoyed the wonderful team spirit that ensured success for everyone, as well as the tremendous sense of personal achievement, both physical and mental.'\",), (\"As the entire Muslim world, except a few nominally independent countries, was subjected to European colonialism 'the best community' (al-Qur'an 3:110) has undergone a tremendous metamorphosis.\",), ('The teams have now put them into action and are having a tremendous effect on their audiences...\"Janet Monk, Seton Healthcare.',), ('The leader of Copeland Council, Robin Simpson, said the fact Mr Blair agreed to meet the group was a tremendous boost.',), ('This was a tremendous day and thanks must go to Chris Lewis and his staff as well as E. T. Breakwells for sponsoring the day plus other trade members who provided the raffle prizes.',), (\"It's being restored to its original glory, and houses a photo exhibit that shows the tremendous growth the city has undergone, from being a sleepy pearling town to the world-class metropolis it is today.\",), ('After many hot sex adventures with the members of the Private team, they let her be a Private girl, and celebrate it with a tremendous orgy.',), ('She could address an audience of any size and still make a tremendous impact.',), (\"The exhibition was a tremendous success with many positive comments on all parts of the exhibition and associated events from both children and adults, many of whom got `stuck in' with the quiz, workshops and computer game themselves.\",), (\"When a young black man is accused of the rape of a white woman, Atticus agrees - amidst tremendous controversy - to defend the accused in the town's court of law.\",), ('The atrocious lip-synching was noticable from the start and detracted greatly from the tremendous efforts made to make the creatures appear realistic.',), ('The appeal received a tremendous response.',), (\"Kate Flavell also supported the motion and pointed out that work was already taking place, citing the tremendous amount of time spent on the Child Protection issue; the Council's structure may need improvement, but the appropriate people to make the proposal work could be assembled now.\",), ('Well done to everyone who took part in the Congress: the dedicated workers, the wonderful speakers and all who organized such a tremendous event.',), ('Having established his headquarters at Rhuddlan Castle, Edward was responsible for the canalization of the River Clwyd, which was a tremendous undertaking on his part, and gave the town security and prosperity.',), ('With an alliance already in place with Doctors.net.co.uk, a further alliance (with Medix) has been set up and the IHS (Medical) joint venture with Metamorph is providing Peer-to-Peer Sales Doctors for specialised sales access with tremendous early success (see later).',), (\"Nevertheless, after withstanding the tremendous onslaught for nearly 6 weeks, the city would have been overrun, had the news not reached the Earl of Leven that the King's troops were rushing to lift the siege of Hereford.\",), ('Alan Turing never got the computer up and running, but he himself was running with tremendous energy and speed.',), (\"His finds sparked tremendous interest in Bath's ancient history, and he eventually convinced the city to buy the modern residential buildings standing over the Roman bath complex and demolish them, so that the ruins could be thoroughly excavated.\",), ('Last year, the Freedom From Fear campaign featured in more than 1,000 press articles across the UK (including newspapers, radio and TV), which is a tremendous achievement.',), ('Voluntary organisations and support groups Voluntary and community schemes and groups can be a tremendous source of help and support.',), (\"However for somebody who has a little more merit, let's say that they have a doubt towards the mode of phenomena - 叢erhaps there is natural or autonomous existence, perhaps not'  let's say they have the doubt which is known as the doubt leaning towards the truth (or leaning towards the true meaning) that phenomena don't have any inherent existence - for that person they acquire a tremendous amount of positive potential, just through that doubt.\",), ('Before the family could make more than a few yards back toward the house, there was a tremendous explosion.',), ('\"The Trust has received tremendous support from the majority of the public.',), ('In 1979 he published his first full-length comic book, SHORT PIECE (Fireball) which earned him his tremendous renown and popularity.',)]\n"
     ]
    }
   ],
   "source": [
    "res=search_sent(\"tremendous\")"
   ]
  },
  {
   "cell_type": "code",
   "execution_count": 62,
   "metadata": {},
   "outputs": [],
   "source": [
    "res"
   ]
  },
  {
   "cell_type": "code",
   "execution_count": null,
   "metadata": {},
   "outputs": [],
   "source": []
  }
 ],
 "metadata": {
  "kernelspec": {
   "display_name": "Python 3",
   "language": "python",
   "name": "python3"
  },
  "language_info": {
   "codemirror_mode": {
    "name": "ipython",
    "version": 3
   },
   "file_extension": ".py",
   "mimetype": "text/x-python",
   "name": "python",
   "nbconvert_exporter": "python",
   "pygments_lexer": "ipython3",
   "version": "3.7.0"
  }
 },
 "nbformat": 4,
 "nbformat_minor": 2
}
